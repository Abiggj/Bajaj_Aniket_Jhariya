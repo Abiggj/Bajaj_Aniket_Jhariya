{
  "nbformat": 4,
  "nbformat_minor": 0,
  "metadata": {
    "colab": {
      "provenance": []
    },
    "kernelspec": {
      "name": "python3",
      "display_name": "Python 3"
    },
    "language_info": {
      "name": "python"
    }
  },
  "cells": [
    {
      "cell_type": "code",
      "execution_count": null,
      "metadata": {
        "id": "fXNPXMFON2dw"
      },
      "outputs": [],
      "source": [
        "import pandas"
      ]
    },
    {
      "cell_type": "code",
      "source": [
        "df = pandas.read_json('data.json')"
      ],
      "metadata": {
        "id": "SaxZJiMFOFH-"
      },
      "execution_count": null,
      "outputs": []
    },
    {
      "cell_type": "code",
      "source": [
        "df.head()"
      ],
      "metadata": {
        "colab": {
          "base_uri": "https://localhost:8080/",
          "height": 206
        },
        "id": "8OwhZfOxOQrN",
        "outputId": "843e110e-36be-44b7-8543-d9fed9bf1f53"
      },
      "execution_count": null,
      "outputs": [
        {
          "output_type": "execute_result",
          "data": {
            "text/plain": [
              "        _id appointmentId                                     patientDetails  \\\n",
              "0  T6hf3rb5     40d2-9c9f  {'_id': 'T6hb630b3', 'firstName': 'Css', 'last...   \n",
              "1  T65g3rb5      40dbtc9f  {'_id': 'T6h33b300', 'firstName': 'Lokesh', 'l...   \n",
              "2  T7g6Srb5      g3Wt5c9f  {'_id': 'TjhB4373', 'phrId': '63b5hvy614d5', '...   \n",
              "3  94bg8W8d      fb6-a535  {'_id': '6df4R5b', 'phrId': '644nig7y', 'first...   \n",
              "4  T6h8H56c       67h7KL9  {'_id': 'lK9hy06a', 'firstName': 'Raghu Viju',...   \n",
              "\n",
              "   phoneNumber                                   consultationData  \n",
              "0  96686896670  {'adviceTemplates': [], 'advices': [], 'attach...  \n",
              "1   9496368916  {'adviceTemplates': [], 'advices': [], 'attach...  \n",
              "2   7787204833  {'adviceTemplates': [], 'advices': [], 'attach...  \n",
              "3   9376756879  {'adviceTemplates': [], 'advices': [], 'attach...  \n",
              "4   5267384241  {'adviceTemplates': [], 'advices': [], 'attach...  "
            ],
            "text/html": [
              "\n",
              "  <div id=\"df-dbd844ab-a490-458a-9b9e-893b6f821679\" class=\"colab-df-container\">\n",
              "    <div>\n",
              "<style scoped>\n",
              "    .dataframe tbody tr th:only-of-type {\n",
              "        vertical-align: middle;\n",
              "    }\n",
              "\n",
              "    .dataframe tbody tr th {\n",
              "        vertical-align: top;\n",
              "    }\n",
              "\n",
              "    .dataframe thead th {\n",
              "        text-align: right;\n",
              "    }\n",
              "</style>\n",
              "<table border=\"1\" class=\"dataframe\">\n",
              "  <thead>\n",
              "    <tr style=\"text-align: right;\">\n",
              "      <th></th>\n",
              "      <th>_id</th>\n",
              "      <th>appointmentId</th>\n",
              "      <th>patientDetails</th>\n",
              "      <th>phoneNumber</th>\n",
              "      <th>consultationData</th>\n",
              "    </tr>\n",
              "  </thead>\n",
              "  <tbody>\n",
              "    <tr>\n",
              "      <th>0</th>\n",
              "      <td>T6hf3rb5</td>\n",
              "      <td>40d2-9c9f</td>\n",
              "      <td>{'_id': 'T6hb630b3', 'firstName': 'Css', 'last...</td>\n",
              "      <td>96686896670</td>\n",
              "      <td>{'adviceTemplates': [], 'advices': [], 'attach...</td>\n",
              "    </tr>\n",
              "    <tr>\n",
              "      <th>1</th>\n",
              "      <td>T65g3rb5</td>\n",
              "      <td>40dbtc9f</td>\n",
              "      <td>{'_id': 'T6h33b300', 'firstName': 'Lokesh', 'l...</td>\n",
              "      <td>9496368916</td>\n",
              "      <td>{'adviceTemplates': [], 'advices': [], 'attach...</td>\n",
              "    </tr>\n",
              "    <tr>\n",
              "      <th>2</th>\n",
              "      <td>T7g6Srb5</td>\n",
              "      <td>g3Wt5c9f</td>\n",
              "      <td>{'_id': 'TjhB4373', 'phrId': '63b5hvy614d5', '...</td>\n",
              "      <td>7787204833</td>\n",
              "      <td>{'adviceTemplates': [], 'advices': [], 'attach...</td>\n",
              "    </tr>\n",
              "    <tr>\n",
              "      <th>3</th>\n",
              "      <td>94bg8W8d</td>\n",
              "      <td>fb6-a535</td>\n",
              "      <td>{'_id': '6df4R5b', 'phrId': '644nig7y', 'first...</td>\n",
              "      <td>9376756879</td>\n",
              "      <td>{'adviceTemplates': [], 'advices': [], 'attach...</td>\n",
              "    </tr>\n",
              "    <tr>\n",
              "      <th>4</th>\n",
              "      <td>T6h8H56c</td>\n",
              "      <td>67h7KL9</td>\n",
              "      <td>{'_id': 'lK9hy06a', 'firstName': 'Raghu Viju',...</td>\n",
              "      <td>5267384241</td>\n",
              "      <td>{'adviceTemplates': [], 'advices': [], 'attach...</td>\n",
              "    </tr>\n",
              "  </tbody>\n",
              "</table>\n",
              "</div>\n",
              "    <div class=\"colab-df-buttons\">\n",
              "\n",
              "  <div class=\"colab-df-container\">\n",
              "    <button class=\"colab-df-convert\" onclick=\"convertToInteractive('df-dbd844ab-a490-458a-9b9e-893b6f821679')\"\n",
              "            title=\"Convert this dataframe to an interactive table.\"\n",
              "            style=\"display:none;\">\n",
              "\n",
              "  <svg xmlns=\"http://www.w3.org/2000/svg\" height=\"24px\" viewBox=\"0 -960 960 960\">\n",
              "    <path d=\"M120-120v-720h720v720H120Zm60-500h600v-160H180v160Zm220 220h160v-160H400v160Zm0 220h160v-160H400v160ZM180-400h160v-160H180v160Zm440 0h160v-160H620v160ZM180-180h160v-160H180v160Zm440 0h160v-160H620v160Z\"/>\n",
              "  </svg>\n",
              "    </button>\n",
              "\n",
              "  <style>\n",
              "    .colab-df-container {\n",
              "      display:flex;\n",
              "      gap: 12px;\n",
              "    }\n",
              "\n",
              "    .colab-df-convert {\n",
              "      background-color: #E8F0FE;\n",
              "      border: none;\n",
              "      border-radius: 50%;\n",
              "      cursor: pointer;\n",
              "      display: none;\n",
              "      fill: #1967D2;\n",
              "      height: 32px;\n",
              "      padding: 0 0 0 0;\n",
              "      width: 32px;\n",
              "    }\n",
              "\n",
              "    .colab-df-convert:hover {\n",
              "      background-color: #E2EBFA;\n",
              "      box-shadow: 0px 1px 2px rgba(60, 64, 67, 0.3), 0px 1px 3px 1px rgba(60, 64, 67, 0.15);\n",
              "      fill: #174EA6;\n",
              "    }\n",
              "\n",
              "    .colab-df-buttons div {\n",
              "      margin-bottom: 4px;\n",
              "    }\n",
              "\n",
              "    [theme=dark] .colab-df-convert {\n",
              "      background-color: #3B4455;\n",
              "      fill: #D2E3FC;\n",
              "    }\n",
              "\n",
              "    [theme=dark] .colab-df-convert:hover {\n",
              "      background-color: #434B5C;\n",
              "      box-shadow: 0px 1px 3px 1px rgba(0, 0, 0, 0.15);\n",
              "      filter: drop-shadow(0px 1px 2px rgba(0, 0, 0, 0.3));\n",
              "      fill: #FFFFFF;\n",
              "    }\n",
              "  </style>\n",
              "\n",
              "    <script>\n",
              "      const buttonEl =\n",
              "        document.querySelector('#df-dbd844ab-a490-458a-9b9e-893b6f821679 button.colab-df-convert');\n",
              "      buttonEl.style.display =\n",
              "        google.colab.kernel.accessAllowed ? 'block' : 'none';\n",
              "\n",
              "      async function convertToInteractive(key) {\n",
              "        const element = document.querySelector('#df-dbd844ab-a490-458a-9b9e-893b6f821679');\n",
              "        const dataTable =\n",
              "          await google.colab.kernel.invokeFunction('convertToInteractive',\n",
              "                                                    [key], {});\n",
              "        if (!dataTable) return;\n",
              "\n",
              "        const docLinkHtml = 'Like what you see? Visit the ' +\n",
              "          '<a target=\"_blank\" href=https://colab.research.google.com/notebooks/data_table.ipynb>data table notebook</a>'\n",
              "          + ' to learn more about interactive tables.';\n",
              "        element.innerHTML = '';\n",
              "        dataTable['output_type'] = 'display_data';\n",
              "        await google.colab.output.renderOutput(dataTable, element);\n",
              "        const docLink = document.createElement('div');\n",
              "        docLink.innerHTML = docLinkHtml;\n",
              "        element.appendChild(docLink);\n",
              "      }\n",
              "    </script>\n",
              "  </div>\n",
              "\n",
              "\n",
              "<div id=\"df-8ffe7698-9312-4035-89d6-5fb4a7dbb488\">\n",
              "  <button class=\"colab-df-quickchart\" onclick=\"quickchart('df-8ffe7698-9312-4035-89d6-5fb4a7dbb488')\"\n",
              "            title=\"Suggest charts\"\n",
              "            style=\"display:none;\">\n",
              "\n",
              "<svg xmlns=\"http://www.w3.org/2000/svg\" height=\"24px\"viewBox=\"0 0 24 24\"\n",
              "     width=\"24px\">\n",
              "    <g>\n",
              "        <path d=\"M19 3H5c-1.1 0-2 .9-2 2v14c0 1.1.9 2 2 2h14c1.1 0 2-.9 2-2V5c0-1.1-.9-2-2-2zM9 17H7v-7h2v7zm4 0h-2V7h2v10zm4 0h-2v-4h2v4z\"/>\n",
              "    </g>\n",
              "</svg>\n",
              "  </button>\n",
              "\n",
              "<style>\n",
              "  .colab-df-quickchart {\n",
              "      --bg-color: #E8F0FE;\n",
              "      --fill-color: #1967D2;\n",
              "      --hover-bg-color: #E2EBFA;\n",
              "      --hover-fill-color: #174EA6;\n",
              "      --disabled-fill-color: #AAA;\n",
              "      --disabled-bg-color: #DDD;\n",
              "  }\n",
              "\n",
              "  [theme=dark] .colab-df-quickchart {\n",
              "      --bg-color: #3B4455;\n",
              "      --fill-color: #D2E3FC;\n",
              "      --hover-bg-color: #434B5C;\n",
              "      --hover-fill-color: #FFFFFF;\n",
              "      --disabled-bg-color: #3B4455;\n",
              "      --disabled-fill-color: #666;\n",
              "  }\n",
              "\n",
              "  .colab-df-quickchart {\n",
              "    background-color: var(--bg-color);\n",
              "    border: none;\n",
              "    border-radius: 50%;\n",
              "    cursor: pointer;\n",
              "    display: none;\n",
              "    fill: var(--fill-color);\n",
              "    height: 32px;\n",
              "    padding: 0;\n",
              "    width: 32px;\n",
              "  }\n",
              "\n",
              "  .colab-df-quickchart:hover {\n",
              "    background-color: var(--hover-bg-color);\n",
              "    box-shadow: 0 1px 2px rgba(60, 64, 67, 0.3), 0 1px 3px 1px rgba(60, 64, 67, 0.15);\n",
              "    fill: var(--button-hover-fill-color);\n",
              "  }\n",
              "\n",
              "  .colab-df-quickchart-complete:disabled,\n",
              "  .colab-df-quickchart-complete:disabled:hover {\n",
              "    background-color: var(--disabled-bg-color);\n",
              "    fill: var(--disabled-fill-color);\n",
              "    box-shadow: none;\n",
              "  }\n",
              "\n",
              "  .colab-df-spinner {\n",
              "    border: 2px solid var(--fill-color);\n",
              "    border-color: transparent;\n",
              "    border-bottom-color: var(--fill-color);\n",
              "    animation:\n",
              "      spin 1s steps(1) infinite;\n",
              "  }\n",
              "\n",
              "  @keyframes spin {\n",
              "    0% {\n",
              "      border-color: transparent;\n",
              "      border-bottom-color: var(--fill-color);\n",
              "      border-left-color: var(--fill-color);\n",
              "    }\n",
              "    20% {\n",
              "      border-color: transparent;\n",
              "      border-left-color: var(--fill-color);\n",
              "      border-top-color: var(--fill-color);\n",
              "    }\n",
              "    30% {\n",
              "      border-color: transparent;\n",
              "      border-left-color: var(--fill-color);\n",
              "      border-top-color: var(--fill-color);\n",
              "      border-right-color: var(--fill-color);\n",
              "    }\n",
              "    40% {\n",
              "      border-color: transparent;\n",
              "      border-right-color: var(--fill-color);\n",
              "      border-top-color: var(--fill-color);\n",
              "    }\n",
              "    60% {\n",
              "      border-color: transparent;\n",
              "      border-right-color: var(--fill-color);\n",
              "    }\n",
              "    80% {\n",
              "      border-color: transparent;\n",
              "      border-right-color: var(--fill-color);\n",
              "      border-bottom-color: var(--fill-color);\n",
              "    }\n",
              "    90% {\n",
              "      border-color: transparent;\n",
              "      border-bottom-color: var(--fill-color);\n",
              "    }\n",
              "  }\n",
              "</style>\n",
              "\n",
              "  <script>\n",
              "    async function quickchart(key) {\n",
              "      const quickchartButtonEl =\n",
              "        document.querySelector('#' + key + ' button');\n",
              "      quickchartButtonEl.disabled = true;  // To prevent multiple clicks.\n",
              "      quickchartButtonEl.classList.add('colab-df-spinner');\n",
              "      try {\n",
              "        const charts = await google.colab.kernel.invokeFunction(\n",
              "            'suggestCharts', [key], {});\n",
              "      } catch (error) {\n",
              "        console.error('Error during call to suggestCharts:', error);\n",
              "      }\n",
              "      quickchartButtonEl.classList.remove('colab-df-spinner');\n",
              "      quickchartButtonEl.classList.add('colab-df-quickchart-complete');\n",
              "    }\n",
              "    (() => {\n",
              "      let quickchartButtonEl =\n",
              "        document.querySelector('#df-8ffe7698-9312-4035-89d6-5fb4a7dbb488 button');\n",
              "      quickchartButtonEl.style.display =\n",
              "        google.colab.kernel.accessAllowed ? 'block' : 'none';\n",
              "    })();\n",
              "  </script>\n",
              "</div>\n",
              "\n",
              "    </div>\n",
              "  </div>\n"
            ],
            "application/vnd.google.colaboratory.intrinsic+json": {
              "type": "dataframe",
              "variable_name": "df",
              "summary": "{\n  \"name\": \"df\",\n  \"rows\": 31,\n  \"fields\": [\n    {\n      \"column\": \"_id\",\n      \"properties\": {\n        \"dtype\": \"string\",\n        \"num_unique_values\": 31,\n        \"samples\": [\n          \"y87Ta5c7\",\n          \"T4E7Ge6\",\n          \"U9D2w6c\"\n        ],\n        \"semantic_type\": \"\",\n        \"description\": \"\"\n      }\n    },\n    {\n      \"column\": \"appointmentId\",\n      \"properties\": {\n        \"dtype\": \"string\",\n        \"num_unique_values\": 31,\n        \"samples\": [\n          \"432cT213\",\n          \"T4E3e410\",\n          \"cc86re0f\"\n        ],\n        \"semantic_type\": \"\",\n        \"description\": \"\"\n      }\n    },\n    {\n      \"column\": \"patientDetails\",\n      \"properties\": {\n        \"dtype\": \"object\",\n        \"semantic_type\": \"\",\n        \"description\": \"\"\n      }\n    },\n    {\n      \"column\": \"phoneNumber\",\n      \"properties\": {\n        \"dtype\": \"string\",\n        \"num_unique_values\": 27,\n        \"samples\": [\n          \"9987602525\",\n          \"7152684236\",\n          \"9234354366\"\n        ],\n        \"semantic_type\": \"\",\n        \"description\": \"\"\n      }\n    },\n    {\n      \"column\": \"consultationData\",\n      \"properties\": {\n        \"dtype\": \"object\",\n        \"semantic_type\": \"\",\n        \"description\": \"\"\n      }\n    }\n  ]\n}"
            }
          },
          "metadata": {},
          "execution_count": 4
        }
      ]
    },
    {
      "cell_type": "code",
      "source": [
        "df.shape"
      ],
      "metadata": {
        "colab": {
          "base_uri": "https://localhost:8080/"
        },
        "id": "M0_c2NKUPmyr",
        "outputId": "6ce4c87a-10e8-4118-c399-0760e85d6679"
      },
      "execution_count": null,
      "outputs": [
        {
          "output_type": "execute_result",
          "data": {
            "text/plain": [
              "(31, 5)"
            ]
          },
          "metadata": {},
          "execution_count": 16
        }
      ]
    },
    {
      "cell_type": "code",
      "source": [
        "df.dtypes"
      ],
      "metadata": {
        "colab": {
          "base_uri": "https://localhost:8080/"
        },
        "id": "oNE5g1IvO1xc",
        "outputId": "911e826e-c675-45be-d4a9-73c27bb70e24"
      },
      "execution_count": null,
      "outputs": [
        {
          "output_type": "execute_result",
          "data": {
            "text/plain": [
              "_id                 object\n",
              "appointmentId       object\n",
              "patientDetails      object\n",
              "phoneNumber         object\n",
              "consultationData    object\n",
              "dtype: object"
            ]
          },
          "metadata": {},
          "execution_count": 9
        }
      ]
    },
    {
      "cell_type": "code",
      "source": [
        "for patient in df.patientDetails:\n",
        "  print(patient)"
      ],
      "metadata": {
        "colab": {
          "base_uri": "https://localhost:8080/"
        },
        "id": "IpBEv_hhRqbm",
        "outputId": "19ebb12c-c3da-457a-f785-05635b2074d5"
      },
      "execution_count": null,
      "outputs": [
        {
          "output_type": "stream",
          "name": "stdout",
          "text": [
            "{'_id': 'T6hb630b3', 'firstName': 'Css', 'lastName': '', 'emailId': '', 'gender': '', 'alternateContact': '', 'birthDate': None}\n",
            "{'_id': 'T6h33b300', 'firstName': 'Lokesh', 'lastName': '', 'emailId': '', 'gender': 'M', 'birthDate': '1996-05-16T18:30:00.000Z'}\n",
            "{'_id': 'TjhB4373', 'phrId': '63b5hvy614d5', 'firstName': 'Shila', 'lastName': 'Das', 'emailId': ''}\n",
            "{'_id': '6df4R5b', 'phrId': '644nig7y', 'firstName': 'Bhavika', 'lastName': 'Ben Panchal', 'emailId': '', 'gender': 'F', 'birthDate': '1988-04-24T14:30:00.000Z'}\n",
            "{'_id': 'lK9hy06a', 'firstName': 'Raghu Viju', 'lastName': '', 'emailId': '', 'alternateContact': ''}\n",
            "{'_id': 'kI9d5c6', 'firstName': 'Dinesh Kumar', 'lastName': '', 'emailId': '', 'gender': 'M', 'birthDate': '1983-05-16T18:30:00.000Z', 'chat': {'_id': '09hUb5c7'}, 'customId': '3FPEUCW8HACJ'}\n",
            "{'_id': 'i9R324b7', 'phrId': '67Yt2b97', 'firstName': 'Lalit', 'lastName': 'Sankhwal', 'emailId': '', 'gender': 'M', 'alternateContact': '', 'birthDate': '2003-06-27T14:30:00.000Z'}\n",
            "{'_id': 'T6h41b5ad3d8002ad9c3c4', 'firstName': 'Ravi', 'lastName': '', 'emailId': '', 'chat': {'_id': 'T6h41b5ad3d8002ad9c3c5'}, 'customId': '8AV4ICI5I389'}\n",
            "{'_id': 'T9Iy347e', 'firstName': 'Dinesh', 'lastName': '', 'emailId': '', 'gender': 'M', 'birthDate': '1983-05-16T18:30:00.000Z', 'chat': {'_id': 'T9IsT37f'}, 'customId': '0308MSAHYR8K'}\n",
            "{'_id': 'T4Rb1a2', 'firstName': 'Sanjay', 'lastName': '', 'emailId': '', 'gender': 'M', 'birthDate': '1998-05-16T18:30:00.000Z', 'chat': {'_id': '7Yd9b1a3'}, 'customId': '8S7A3D4K4WZH'}\n",
            "{'_id': 'Tr4T2173', 'phrId': '6E48U79', 'firstName': 'Akshay', 'lastName': 'Akshay', 'emailId': '', 'gender': 'M', 'birthDate': '1988-04-08T00:00:00.000Z', 'chat': {'_id': 'Tr4W174', 'channelId': '9IrR9ce7'}, 'customId': '83AH0K04SSTV'}\n",
            "{'_id': 'T6Wa50', 'firstName': 'Nirmala', 'lastName': '', 'emailId': '', 'gender': 'F', 'birthDate': '1971-05-16T18:30:00.000Z', 'chat': {'_id': 'T6h3635ad3d8002ad9b001'}, 'customId': '832ZIS6ZCAHH'}\n",
            "{'_id': '65sRa36', 'firstName': 'Satish', 'lastName': '', 'emailId': '', 'birthDate': '1970-05-16T18:30:00.000Z', 'chat': {'_id': '6Y6a36'}, 'customId': 'YW883CARSES3'}\n",
            "{'_id': 'UG67231', 'phrId': 'T6a7231', 'firstName': 'Kalaiarasi', 'lastName': 'Kalaiarasi', 'emailId': '', 'gender': 'F', 'alternateContact': '', 'birthDate': '1997-07-31T00:00:00.000Z'}\n",
            "{'_id': 'E4u5Ea2', 'firstName': 'Satyanaaryan', 'lastName': '', 'emailId': '', 'alternateContact': '', 'chat': {'_id': 'E4u5Ea2'}, 'customId': 'E4u5Ea2'}\n",
            "{'_id': 'T4E7Ge6', 'firstName': 'Nivitha', 'lastName': '', 'emailId': '', 'gender': 'F', 'birthDate': '1997-05-16T18:30:00.000Z'}\n",
            "{'_id': '04Re22d', 'firstName': 'Tejpal', 'lastName': '', 'emailId': '', 'gender': 'M', 'birthDate': '1972-05-16T18:30:00.000Z', 'chat': {'_id': '04Re22d'}, 'customId': '04Re22d'}\n",
            "{'_id': 'u7dWa589', 'firstName': 'Nandhini', 'lastName': '', 'emailId': '', 'gender': 'F', 'birthDate': '2001-05-16T18:30:00.000Z'}\n",
            "{'_id': 'TU7e913', 'firstName': 'Dhanamma', 'lastName': '', 'emailId': '', 'gender': 'F', 'chat': {'_id': 'u8e6fgd14'}, 'customId': 'y7ewr5w'}\n",
            "{'_id': 'H8s2d40', 'firstName': 'Kushal', 'lastName': '', 'emailId': ''}\n",
            "{'_id': 'u9cd6', 'phrId': '6463U8s231', 'firstName': 'Daniya', 'lastName': 'Zehra', 'emailId': '', 'gender': 'F', 'birthDate': '2001-08-27T00:00:00.000Z'}\n",
            "{'_id': 'Pdh97S6', 'phrId': 'Jus0480', 'firstName': 'Jay', 'lastName': 'Sharma', 'emailId': '', 'gender': 'M', 'birthDate': '1998-11-19T23:30:00.000Z'}\n",
            "{'_id': 'h02U8a781', 'firstName': 'Preethi', 'lastName': '', 'emailId': '', 'gender': 'F', 'birthDate': '1996-05-16T18:30:00.000Z', 'chat': {'_id': 'T6h9a782'}, 'customId': 'H8NdI3MAW'}\n",
            "{'_id': 'T6h40a5ad3d8002ad9c06a', 'firstName': 'VITTHAL SHANKARRAO GHATE', 'lastName': '', 'alternateContact': '+917797689682', 'customId': '83AAWWI24W63', 'chat': {'_id': 'T6h40a1becc5002908b235'}}\n",
            "{'_id': 'Y7sHec', 'firstName': 'Naresh', 'lastName': '', 'emailId': '', 'gender': 'M', 'birthDate': '1992-05-16T18:30:00.000Z'}\n",
            "{'_id': 'T6h408981ayf32b63bcfa', 'firstName': 'Suresh', 'lastName': 'Gaikwad', 'emailId': '', 'alternateContact': '', 'chat': {'_id': 'Hsb690S'}, 'customId': 'ABCD1419'}\n",
            "{'_id': 'T6U67af9', 'firstName': 'Govardhan', 'lastName': '', 'emailId': '', 'alternateContact': '', 'chat': {'_id': 'u7sg9be5a'}, 'customId': 'Gya7sfw'}\n",
            "{'_id': 'R53Et5W', 'firstName': 'Rajeshwari', 'lastName': '', 'emailId': '', 'gender': 'F', 'birthDate': '1999-05-16T18:30:00.000Z', 'chat': {'_id': 'T6h2fT5535c6'}, 'customId': 'K44RwH0T'}\n",
            "{'_id': 'dE3r$2b5', 'firstName': 'Santosh', 'lastName': '', 'emailId': '', 'gender': 'F', 'birthDate': '1972-05-16T18:30:00.000Z'}\n",
            "{'_id': 'TI93Hd5', 'firstName': 'Tarachand', 'lastName': '', 'emailId': '', 'gender': 'M', 'alternateContact': '', 'birthDate': '1980-03-22T18:30:00.000Z', 'chat': {'_id': 'TH8W2d6'}, 'customId': '90hjdX2'}\n",
            "{'_id': 'Pdh97S6', 'phrId': 'Jus0480', 'firstName': 'Jay', 'lastName': 'Sharma', 'emailId': '', 'gender': 'M', 'birthDate': '1991-11-19T23:30:00.000Z'}\n"
          ]
        }
      ]
    },
    {
      "cell_type": "code",
      "source": [
        "count = 0\n",
        "total = 0\n",
        "ageGroup = []\n",
        "for patient in df.patientDetails:\n",
        "  total += 1\n",
        "  if 'lastName' in patient:\n",
        "    if patient['lastName'] != None and patient['lastName'] != '':\n",
        "      count += 1\n",
        "print(((total - count)/total)* 100)"
      ],
      "metadata": {
        "colab": {
          "base_uri": "https://localhost:8080/"
        },
        "id": "o75goH7vdkiE",
        "outputId": "bb843b84-55be-47a7-c4c1-bc1b4a167088"
      },
      "execution_count": 108,
      "outputs": [
        {
          "output_type": "stream",
          "name": "stdout",
          "text": [
            "70.96774193548387\n"
          ]
        }
      ]
    },
    {
      "cell_type": "code",
      "source": [
        "count = 0\n",
        "total = 0\n",
        "ageGroup = []\n",
        "for patient in df.patientDetails:\n",
        "  if 'gender' in patient:\n",
        "    total += 1\n",
        "    if patient['gender'] != None and patient['gender'] != '' and patient['gender'] == 'F':\n",
        "      count += 1\n",
        "print(((count)/total)* 100)"
      ],
      "metadata": {
        "colab": {
          "base_uri": "https://localhost:8080/"
        },
        "id": "se-NVxGReJW6",
        "outputId": "7771d9df-9e21-4410-b521-a9d4312099c4"
      },
      "execution_count": 112,
      "outputs": [
        {
          "output_type": "stream",
          "name": "stdout",
          "text": [
            "45.45454545454545\n"
          ]
        }
      ]
    },
    {
      "cell_type": "code",
      "source": [
        "from datetime import datetime\n",
        "today = datetime.today()\n",
        "count = 0\n",
        "total = 0\n",
        "ageGroup = []\n",
        "for patient in df.patientDetails:\n",
        "  if 'birthDate' in patient:\n",
        "    if patient['birthDate'] != None and patient['birthDate'] != '':\n",
        "      total += 1\n",
        "      timestamp = patient['birthDate'][:-5]\n",
        "      time = datetime.strptime(timestamp, '%Y-%m-%dT%H:%M:%S')\n",
        "      age = int(today.year - time.year)\n",
        "      if age >= 23 and age <= 59:\n",
        "        ageGroup.append('Adult')\n",
        "        count +=1\n",
        "      elif age >= 13 and age <= 19:\n",
        "        ageGroup.append('Adult')\n",
        "      elif age <= 12:\n",
        "        ageGroup.append('Child')\n",
        "      elif age >= 60:\n",
        "        ageGroup.append('Senior')\n",
        "\n",
        "print((count/total)* 100)\n"
      ],
      "metadata": {
        "colab": {
          "base_uri": "https://localhost:8080/"
        },
        "id": "hZ-Eu3DbOSjE",
        "outputId": "d45e5f2a-959e-4590-be91-e3310b2271ae"
      },
      "execution_count": null,
      "outputs": [
        {
          "output_type": "stream",
          "name": "stdout",
          "text": [
            "95.23809523809523\n"
          ]
        }
      ]
    },
    {
      "cell_type": "code",
      "source": [
        "total = 0\n",
        "count = 0\n",
        "for consult in df.consultationData:\n",
        "  count += 1\n",
        "  total += len(consult[\"medicines\"])\n",
        "print(total/count)"
      ],
      "metadata": {
        "colab": {
          "base_uri": "https://localhost:8080/"
        },
        "id": "IvF9dXLOUxj1",
        "outputId": "604ac6c9-b379-48c8-f291-f0e47b781898"
      },
      "execution_count": null,
      "outputs": [
        {
          "output_type": "stream",
          "name": "stdout",
          "text": [
            "2.129032258064516\n"
          ]
        }
      ]
    },
    {
      "cell_type": "code",
      "source": [
        "meds = []\n",
        "for consult in df.consultationData:\n",
        "  for med in consult[\"medicines\"]:\n",
        "    meds.append(med['medicineName'])"
      ],
      "metadata": {
        "id": "4mo2hG6OWH_l"
      },
      "execution_count": null,
      "outputs": []
    },
    {
      "cell_type": "code",
      "source": [
        "t = set(meds)\n",
        "print(t)"
      ],
      "metadata": {
        "colab": {
          "base_uri": "https://localhost:8080/"
        },
        "id": "PlwJ9aSZXVsp",
        "outputId": "5d37357c-4855-4a7f-ec43-adbd736eec82"
      },
      "execution_count": null,
      "outputs": [
        {
          "output_type": "stream",
          "name": "stdout",
          "text": [
            "{'C', 'A', 'B', 'E', 'D', 'G'}\n"
          ]
        }
      ]
    },
    {
      "cell_type": "code",
      "source": [
        "for x in t:\n",
        "  print(x, meds.count(x))"
      ],
      "metadata": {
        "colab": {
          "base_uri": "https://localhost:8080/"
        },
        "id": "9COiSX7FWwaU",
        "outputId": "6144d60f-1149-490f-bcdd-e266661b8f3b"
      },
      "execution_count": null,
      "outputs": [
        {
          "output_type": "stream",
          "name": "stdout",
          "text": [
            "C 13\n",
            "A 17\n",
            "B 12\n",
            "E 6\n",
            "D 17\n",
            "G 1\n"
          ]
        }
      ]
    },
    {
      "cell_type": "code",
      "source": [
        "meds = []\n",
        "count = 0\n",
        "total = 0\n",
        "for consult in df.consultationData:\n",
        "  for med in consult[\"medicines\"]:\n",
        "    total += 1\n",
        "    if med['isActive']:\n",
        "      count += 1\n",
        "print((count/total)*100)\n",
        "print((1-(count/total))*100)"
      ],
      "metadata": {
        "colab": {
          "base_uri": "https://localhost:8080/"
        },
        "id": "LGPxnb66Xvs5",
        "outputId": "e474be13-1a0f-4c2e-cecd-55330f1c9a25"
      },
      "execution_count": null,
      "outputs": [
        {
          "output_type": "stream",
          "name": "stdout",
          "text": [
            "69.6969696969697\n",
            "30.303030303030297\n"
          ]
        }
      ]
    },
    {
      "cell_type": "code",
      "source": [
        "isValid = []\n",
        "for ph in df.phoneNumber:\n",
        "  if ph [:2] == '91' or ph [:3] == '+91':\n",
        "    isValid.append(True)\n",
        "  else:\n",
        "    isValid.append(False)\n",
        "df['isValid'] = isValid"
      ],
      "metadata": {
        "id": "xBPaZkh1XyVg"
      },
      "execution_count": null,
      "outputs": []
    },
    {
      "cell_type": "code",
      "source": [
        "count = 0\n",
        "for valid in df.isValid:\n",
        "  if valid:\n",
        "    count += 1\n",
        "print(count)"
      ],
      "metadata": {
        "colab": {
          "base_uri": "https://localhost:8080/"
        },
        "id": "WSNpWAy6Y8ht",
        "outputId": "a90473b3-c92d-40cd-eaea-e7d2f7ea41dd"
      },
      "execution_count": 114,
      "outputs": [
        {
          "output_type": "stream",
          "name": "stdout",
          "text": [
            "8\n"
          ]
        }
      ]
    }
  ]
}